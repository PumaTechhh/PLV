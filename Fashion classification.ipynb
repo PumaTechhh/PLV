{
 "cells": [
  {
   "cell_type": "code",
   "execution_count": 2,
   "id": "aae8e848-1012-4d27-8a94-2b247de75bf6",
   "metadata": {},
   "outputs": [],
   "source": [
    "# Import necessary libraries\n",
    "import tensorflow as tf  # TensorFlow for building and training the model\n",
    "from tensorflow import keras  # Keras API for easier deep learning\n",
    "import matplotlib.pyplot as plt  # Matplotlib for visualization"
   ]
  },
  {
   "cell_type": "code",
   "execution_count": 3,
   "id": "a09d0aa7-c2c9-4cdb-b0ca-ed80eb601c70",
   "metadata": {},
   "outputs": [],
   "source": [
    "# Load the Fashion-MNIST dataset\n",
    "fashion_mnist = keras.datasets.fashion_mnist  \n",
    "(train_images, train_labels), (test_images, test_labels) = fashion_mnist.load_data()"
   ]
  },
  {
   "cell_type": "code",
   "execution_count": 4,
   "id": "a8bdfa66-8e6a-4333-90a3-7dd201709b26",
   "metadata": {},
   "outputs": [],
   "source": [
    "# Class names for reference (indices 0-9 correspond to these categories)\n",
    "class_names = ['T-shirt/top', 'Trouser', 'Pullover', 'Dress', 'Coat', \n",
    "               'Sandal', 'Shirt', 'Sneaker', 'Bag', 'Ankle boot']"
   ]
  },
  {
   "cell_type": "code",
   "execution_count": 5,
   "id": "99fd9f07-6854-47be-8681-d5c2e6c4750b",
   "metadata": {},
   "outputs": [],
   "source": [
    "# Normalize images (Scale pixel values from 0-255 to 0-1 for better training performance)\n",
    "train_images = train_images / 255.0\n",
    "test_images = test_images / 255.0"
   ]
  },
  {
   "cell_type": "code",
   "execution_count": 6,
   "id": "14b0ea68-48a9-4e95-9418-f559e24c31e4",
   "metadata": {},
   "outputs": [
    {
     "data": {
      "image/png": "[encoded data removed]",
      "text/plain": [
       "<Figure size 500x500 with 1 Axes>"
      ]
     },
     "metadata": {},
     "output_type": "display_data"
    }
   ],
   "source": [
    "# Display an example image from the dataset\n",
    "plt.figure(figsize=(5,5))  # Set figure size\n",
    "plt.imshow(train_images[0], cmap=plt.cm.binary)  # Show first image in grayscale\n",
    "plt.title(f\"Example Image: {class_names[train_labels[0]]}\")  # Show label name\n",
    "plt.show()"
   ]
  },
  {
   "cell_type": "code",
   "execution_count": 7,
   "id": "51bdd2fb-5184-4d30-8824-4e6ca0670820",
   "metadata": {},
   "outputs": [
    {
     "name": "stderr",
     "output_type": "stream",
     "text": [
      "C:\\Users\\samik\\anaconda3\\envs\\myenv\\lib\\site-packages\\keras\\src\\layers\\reshaping\\flatten.py:37: UserWarning: Do not pass an `input_shape`/`input_dim` argument to a layer. When using Sequential models, prefer using an `Input(shape)` object as the first layer in the model instead.\n",
      "  super().__init__(**kwargs)\n"
     ]
    }
   ],
   "source": [
    "# Build a simple neural network model\n",
    "model = keras.Sequential([\n",
    "    keras.layers.Flatten(input_shape=(28, 28)),  # Flatten 28x28 images into 1D array (784 pixels)\n",
    "    keras.layers.Dense(128, activation='relu'),  # Fully connected hidden layer with 128 neurons (ReLU activation)\n",
    "    keras.layers.Dense(10, activation='softmax')  # Output layer (10 neurons, one for each category, using softmax)\n",
    "])"
   ]
  },
  {
   "cell_type": "code",
   "execution_count": 8,
   "id": "cb50c182-e7c2-4397-9adc-01ab848df19a",
   "metadata": {},
   "outputs": [],
   "source": [
    "# Compile the model (Define optimizer, loss function, and evaluation metric)\n",
    "model.compile(optimizer='adam',  # Adam optimizer for adaptive learning rate\n",
    "              loss='sparse_categorical_crossentropy',  # Suitable loss function for multi-class classification\n",
    "              metrics=['accuracy'])  # Measure model performance using accuracy"
   ]
  },
  {
   "cell_type": "code",
   "execution_count": 9,
   "id": "159384fb-0546-4e07-a8ae-75689b9ef7e9",
   "metadata": {},
   "outputs": [
    {
     "name": "stdout",
     "output_type": "stream",
     "text": [
      "Epoch 1/10\n",
      "\u001b[1m1875/1875\u001b[0m \u001b[32m━━━━━━━━━━━━━━━━━━━━\u001b[0m\u001b[37m\u001b[0m \u001b[1m19s\u001b[0m 7ms/step - accuracy: 0.7820 - loss: 0.6246\n",
      "Epoch 2/10\n",
      "\u001b[1m1875/1875\u001b[0m \u001b[32m━━━━━━━━━━━━━━━━━━━━\u001b[0m\u001b[37m\u001b[0m \u001b[1m11s\u001b[0m 6ms/step - accuracy: 0.8620 - loss: 0.3814\n",
      "Epoch 3/10\n",
      "\u001b[1m1875/1875\u001b[0m \u001b[32m━━━━━━━━━━━━━━━━━━━━\u001b[0m\u001b[37m\u001b[0m \u001b[1m11s\u001b[0m 6ms/step - accuracy: 0.8759 - loss: 0.3426\n",
      "Epoch 4/10\n",
      "\u001b[1m1875/1875\u001b[0m \u001b[32m━━━━━━━━━━━━━━━━━━━━\u001b[0m\u001b[37m\u001b[0m \u001b[1m10s\u001b[0m 6ms/step - accuracy: 0.8839 - loss: 0.3177\n",
      "Epoch 5/10\n",
      "\u001b[1m1875/1875\u001b[0m \u001b[32m━━━━━━━━━━━━━━━━━━━━\u001b[0m\u001b[37m\u001b[0m \u001b[1m10s\u001b[0m 5ms/step - accuracy: 0.8905 - loss: 0.2918\n",
      "Epoch 6/10\n",
      "\u001b[1m1875/1875\u001b[0m \u001b[32m━━━━━━━━━━━━━━━━━━━━\u001b[0m\u001b[37m\u001b[0m \u001b[1m11s\u001b[0m 6ms/step - accuracy: 0.8988 - loss: 0.2754\n",
      "Epoch 7/10\n",
      "\u001b[1m1875/1875\u001b[0m \u001b[32m━━━━━━━━━━━━━━━━━━━━\u001b[0m\u001b[37m\u001b[0m \u001b[1m11s\u001b[0m 6ms/step - accuracy: 0.9018 - loss: 0.2612\n",
      "Epoch 8/10\n",
      "\u001b[1m1875/1875\u001b[0m \u001b[32m━━━━━━━━━━━━━━━━━━━━\u001b[0m\u001b[37m\u001b[0m \u001b[1m10s\u001b[0m 5ms/step - accuracy: 0.9055 - loss: 0.2547\n",
      "Epoch 9/10\n",
      "\u001b[1m1875/1875\u001b[0m \u001b[32m━━━━━━━━━━━━━━━━━━━━\u001b[0m\u001b[37m\u001b[0m \u001b[1m10s\u001b[0m 5ms/step - accuracy: 0.9096 - loss: 0.2439\n",
      "Epoch 10/10\n",
      "\u001b[1m1875/1875\u001b[0m \u001b[32m━━━━━━━━━━━━━━━━━━━━\u001b[0m\u001b[37m\u001b[0m \u001b[1m10s\u001b[0m 5ms/step - accuracy: 0.9113 - loss: 0.2353\n"
     ]
    },
    {
     "data": {
      "text/plain": [
       "<keras.src.callbacks.history.History at 0x1dc5c787ee0>"
      ]
     },
     "execution_count": 9,
     "metadata": {},
     "output_type": "execute_result"
    }
   ],
   "source": [
    "# Train the model\n",
    "model.fit(train_images, train_labels, epochs=10)  # Train on training data for 10 epochs"
   ]
  },
  {
   "cell_type": "code",
   "execution_count": 10,
   "id": "7cee95c8-96f5-4088-b018-f3fff3a62a0f",
   "metadata": {},
   "outputs": [
    {
     "name": "stdout",
     "output_type": "stream",
     "text": [
      "\u001b[1m313/313\u001b[0m \u001b[32m━━━━━━━━━━━━━━━━━━━━\u001b[0m\u001b[37m\u001b[0m \u001b[1m2s\u001b[0m 4ms/step - accuracy: 0.8776 - loss: 0.3375\n",
      "\n",
      "Test Accuracy: 0.8798\n"
     ]
    }
   ],
   "source": [
    "# Evaluate the model on test data\n",
    "test_loss, test_acc = model.evaluate(test_images, test_labels)\n",
    "print(f\"\\nTest Accuracy: {test_acc:.4f}\")  # Print test accuracy"
   ]
  },
  {
   "cell_type": "code",
   "execution_count": 11,
   "id": "c4fbc850-adb4-4040-9c5c-d38cf0daf8ad",
   "metadata": {},
   "outputs": [
    {
     "name": "stdout",
     "output_type": "stream",
     "text": [
      "\u001b[1m313/313\u001b[0m \u001b[32m━━━━━━━━━━━━━━━━━━━━\u001b[0m\u001b[37m\u001b[0m \u001b[1m1s\u001b[0m 3ms/step\n"
     ]
    }
   ],
   "source": [
    "# Make predictions on test images\n",
    "predictions = model.predict(test_images)"
   ]
  },
  {
   "cell_type": "code",
   "execution_count": 42,
   "id": "b2519e9b-247d-4f12-86d5-c1fd2d52fbfb",
   "metadata": {},
   "outputs": [
    {
     "data": {
      "image/png": "[encoded data removed]",
      "text/plain": [
       "<Figure size 500x500 with 1 Axes>"
      ]
     },
     "metadata": {},
     "output_type": "display_data"
    }
   ],
   "source": [
    "# Display a test image with model's predicted label\n",
    "plt.figure(figsize=(5,5))\n",
    "plt.imshow(test_images[0], cmap=plt.cm.binary)  # Show first test image\n",
    "plt.title(f\"Predicted: {class_names[predictions[0].argmax()]}\")  # Show predicted class\n",
    "plt.show()"
   ]
  },
  {
   "cell_type": "code",
   "execution_count": null,
   "id": "a6256bf5-4c18-4226-b08d-dc49268e462e",
   "metadata": {},
   "outputs": [],
   "source": []
  },
  {
   "cell_type": "code",
   "execution_count": null,
   "id": "5fdcf710-0cb1-422e-98cf-3c8dce1b10e5",
   "metadata": {},
   "outputs": [],
   "source": []
  },
  {
   "cell_type": "code",
   "execution_count": null,
   "id": "4516eade-ffd0-41dd-a4ec-876d39d3aa7b",
   "metadata": {},
   "outputs": [],
   "source": []
  }
 ],
 "metadata": {
  "kernelspec": {
   "display_name": "Python [conda env:myenv]",
   "language": "python",
   "name": "conda-env-myenv-py"
  },
  "language_info": {
   "codemirror_mode": {
    "name": "ipython",
    "version": 3
   },
   "file_extension": ".py",
   "mimetype": "text/x-python",
   "name": "python",
   "nbconvert_exporter": "python",
   "pygments_lexer": "ipython3",
   "version": "3.10.16"
  }
 },
 "nbformat": 4,
 "nbformat_minor": 5
}
